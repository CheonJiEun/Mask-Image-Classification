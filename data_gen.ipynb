{
 "cells": [
  {
   "cell_type": "code",
   "execution_count": null,
   "id": "2b61a6c1-4451-45d0-b4af-4cbfb6923e88",
   "metadata": {},
   "outputs": [],
   "source": [
    "!pip install -U albumentations==1.1.0 --no-binary qudida,albumentations"
   ]
  },
  {
   "cell_type": "code",
   "execution_count": null,
   "id": "7a02a584-4dfa-450d-8d9d-a21e463c504a",
   "metadata": {},
   "outputs": [],
   "source": [
    "!pip install opencv-python==4.5.5.64"
   ]
  },
  {
   "cell_type": "code",
   "execution_count": 14,
   "id": "6783a5cf-cf50-40ee-891b-22b1baaa5630",
   "metadata": {},
   "outputs": [],
   "source": [
    "from albumentations import *"
   ]
  },
  {
   "cell_type": "code",
   "execution_count": null,
   "id": "f6e5947c-7da0-48ca-bbf2-a4411d38952e",
   "metadata": {},
   "outputs": [],
   "source": [
    "!pip install seaborn"
   ]
  },
  {
   "cell_type": "markdown",
   "id": "ad603ebc-d94c-4fc6-b914-0fb519fd2de7",
   "metadata": {},
   "source": [
    "### 데이터증폭\n",
    "normal, incorrect_mask 데이터를 4개 더 늘려주었음"
   ]
  },
  {
   "cell_type": "code",
   "execution_count": 3,
   "id": "c2b8da24-cabe-4ff0-8da7-d8005a76c2a8",
   "metadata": {},
   "outputs": [],
   "source": [
    "import os\n",
    "import sys\n",
    "from glob import glob\n",
    "import requests\n",
    "import random\n",
    "import numpy as np\n",
    "import pandas as pd\n",
    "import cv2\n",
    "from PIL import Image\n",
    "from sklearn.model_selection import train_test_split\n",
    "from tqdm.notebook import tqdm\n",
    "from time import time\n",
    "\n",
    "import matplotlib.pyplot as plt\n",
    "import seaborn as sns"
   ]
  },
  {
   "cell_type": "code",
   "execution_count": null,
   "id": "99355c4f-6cfe-4c41-b08d-f3ec04966d97",
   "metadata": {
    "scrolled": true,
    "tags": []
   },
   "outputs": [],
   "source": [
    "from PIL import Image\n",
    "import PIL.ImageOps\n",
    "import numpy as np\n",
    "\n",
    "trfm = Compose([\n",
    "        ShiftScaleRotate(p=1.0),\n",
    "        HorizontalFlip(p=0.5),\n",
    "        ColorJitter(0.1, 0.1, 0.1, 0.1),\n",
    "        RandomBrightnessContrast(brightness_limit=(-0.3, 0.3), contrast_limit=(-0.3, 0.3), p=1.0),\n",
    "    ], p=1.0)\n",
    "\n",
    "data_dir = '/opt/ml/input/data/train/images'\n",
    "for folder_name in os.listdir(data_dir):\n",
    "    if folder_name.startswith('.'):\n",
    "        continue\n",
    "    folder_dir = os.path.join(data_dir, folder_name)\n",
    "    os.chdir(folder_dir)\n",
    "    print(folder_dir)\n",
    "    for file_name in os.listdir(folder_dir):\n",
    "        if file_name.startswith('.'):\n",
    "            continue\n",
    "        if file_name.startswith('normal') or file_name.startswith('incorrect_mask'):\n",
    "            file_dir = os.path.join(folder_dir, file_name)\n",
    "            image = Image.open(file_dir)\n",
    "            image = np.array(image)\n",
    "            name, ext = file_name.split('.')\n",
    "            for i in range(2, 6):\n",
    "                changed_image = trfm(image=image)['image']\n",
    "                changed_image = Image.fromarray(changed_image)\n",
    "                changed_image.save(name+str(i)+'.'+ext, 'PNG')       "
   ]
  }
 ],
 "metadata": {
  "kernelspec": {
   "display_name": "Python 3 (ipykernel)",
   "language": "python",
   "name": "python3"
  },
  "language_info": {
   "codemirror_mode": {
    "name": "ipython",
    "version": 3
   },
   "file_extension": ".py",
   "mimetype": "text/x-python",
   "name": "python",
   "nbconvert_exporter": "python",
   "pygments_lexer": "ipython3",
   "version": "3.8.5"
  }
 },
 "nbformat": 4,
 "nbformat_minor": 5
}

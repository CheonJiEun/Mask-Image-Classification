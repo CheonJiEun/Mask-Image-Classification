{
 "cells": [
  {
   "cell_type": "code",
   "execution_count": null,
   "id": "2b61a6c1-4451-45d0-b4af-4cbfb6923e88",
   "metadata": {},
   "outputs": [],
   "source": [
    "!pip install -U albumentations==1.1.0 --no-binary qudida,albumentations"
   ]
  },
  {
   "cell_type": "code",
   "execution_count": null,
   "id": "7a02a584-4dfa-450d-8d9d-a21e463c504a",
   "metadata": {},
   "outputs": [],
   "source": [
    "!pip install opencv-python==4.5.5.64"
   ]
  },
  {
   "cell_type": "code",
   "execution_count": 14,
   "id": "6783a5cf-cf50-40ee-891b-22b1baaa5630",
   "metadata": {},
   "outputs": [],
   "source": [
    "from albumentations import *"
   ]
  },
  {
   "cell_type": "code",
   "execution_count": null,
   "id": "f6e5947c-7da0-48ca-bbf2-a4411d38952e",
   "metadata": {},
   "outputs": [],
   "source": [
    "!pip install seaborn"
   ]
  },
  {
   "cell_type": "markdown",
   "id": "e6932281-c5a2-467f-a19f-a0d7c83dfb9e",
   "metadata": {},
   "source": [
    "### 이미지 배경 제거"
   ]
  },
  {
   "cell_type": "code",
   "execution_count": null,
   "id": "3d1682db-6663-4b65-9993-c42d90807d36",
   "metadata": {
    "scrolled": true,
    "tags": []
   },
   "outputs": [],
   "source": [
    "!pip install rembg"
   ]
  },
  {
   "cell_type": "code",
   "execution_count": null,
   "id": "825fc018-4d0e-4cfe-a702-bed1fc7ed3c9",
   "metadata": {
    "scrolled": true,
    "tags": []
   },
   "outputs": [],
   "source": [
    "from rembg import remove\n",
    "data_dir = '/opt/ml/input/data/train/images_gen_rembg'\n",
    "count = 0\n",
    "for folder_name in os.listdir(data_dir):\n",
    "    if folder_name.startswith('.'):\n",
    "        continue\n",
    "    folder_dir = os.path.join(data_dir, folder_name)\n",
    "    os.chdir(folder_dir)\n",
    "    print(folder_dir, count)\n",
    "    count += 1\n",
    "    for file_name in os.listdir(folder_dir):\n",
    "        if file_name.startswith('.'):\n",
    "            continue\n",
    "        file_dir = os.path.join(folder_dir, file_name)\n",
    "        image = Image.open(file_dir)\n",
    "        name, ext = file_name.split('.')\n",
    "        changed_image = remove(image)\n",
    "        changed_image.save(name+'.'+ext, \"PNG\")"
   ]
  },
  {
   "cell_type": "markdown",
   "id": "533f0e73-6e03-4fca-8980-493d71a8fef8",
   "metadata": {
    "tags": []
   },
   "source": [
    "### 배경을 검은색으로 바꾸고 증폭"
   ]
  },
  {
   "cell_type": "code",
   "execution_count": null,
   "id": "7f152ffb-b514-4447-9b0e-ae33f0bc9308",
   "metadata": {
    "scrolled": true,
    "tags": []
   },
   "outputs": [],
   "source": [
    "from PIL import Image\n",
    "import PIL.ImageOps\n",
    "import numpy as np\n",
    "\n",
    "trfm = Compose([\n",
    "        ShiftScaleRotate(p=1.0),\n",
    "        HorizontalFlip(p=0.5),\n",
    "    ], p=1.0)\n",
    "trfm2 = Compose([\n",
    "\n",
    "    ], p=1.0)\n",
    "data_dir = '/opt/ml/input/data/train/images_rembg_gen'\n",
    "for folder_name in os.listdir(data_dir):\n",
    "    if folder_name.startswith('.'):\n",
    "        continue\n",
    "    folder_dir = os.path.join(data_dir, folder_name)\n",
    "    os.chdir(folder_dir)\n",
    "    print(folder_dir)\n",
    "    for file_name in os.listdir(folder_dir):\n",
    "        if file_name.startswith('.'):\n",
    "            continue\n",
    "        if file_name.startswith('normal') or file_name.startswith('incorrect_mask'):\n",
    "            file_dir = os.path.join(folder_dir, file_name)\n",
    "            image = Image.open(file_dir)\n",
    "            image = np.array(image)\n",
    "            name, ext = file_name.split('.')\n",
    "            for i in range(2, 6):\n",
    "                changed_image = trfm(image=image)['image']\n",
    "                changed_image = Image.fromarray(changed_image)\n",
    "                changed_image = changed_image.convert(\"RGB\")\n",
    "                changed_image.save(name+str(i)+'.'+ext, 'JPEG')\n",
    "            image = trfm2(image=image)['image']\n",
    "            image = Image.fromarray(image)\n",
    "            image = image.convert(\"RGB\")\n",
    "            image.save(name+'.'+ext, 'JPEG')\n",
    "        if file_name.startswith('mask'):\n",
    "            file_dir = os.path.join(folder_dir, file_name)\n",
    "            image = Image.open(file_dir)\n",
    "            image = np.array(image)\n",
    "            name, ext = file_name.split('.')\n",
    "            changed_image = trfm(image=image)['image']\n",
    "            changed_image = Image.fromarray(changed_image)\n",
    "            changed_image = changed_image.convert(\"RGB\")\n",
    "            changed_image.save(name+'.'+ext, 'JPEG')"
   ]
  }
 ],
 "metadata": {
  "kernelspec": {
   "display_name": "Python 3 (ipykernel)",
   "language": "python",
   "name": "python3"
  },
  "language_info": {
   "codemirror_mode": {
    "name": "ipython",
    "version": 3
   },
   "file_extension": ".py",
   "mimetype": "text/x-python",
   "name": "python",
   "nbconvert_exporter": "python",
   "pygments_lexer": "ipython3",
   "version": "3.8.5"
  }
 },
 "nbformat": 4,
 "nbformat_minor": 5
}
